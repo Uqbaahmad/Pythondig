{
 "cells": [
  {
   "cell_type": "markdown",
   "metadata": {},
   "source": [
    "### Question 1. Create a list of size n,  with random numbers from 0 to 100"
   ]
  },
  {
   "cell_type": "code",
   "execution_count": 2,
   "metadata": {},
   "outputs": [
    {
     "name": "stdout",
     "output_type": "stream",
     "text": [
      "[12, 2, 41, 13, 59, 92, 47, 80, 51, 59, 94, 87, 75, 31, 70, 62, 5, 95, 5, 37, 83, 65, 39, 12, 15, 37, 69, 56, 13, 9, 91, 98, 67, 13, 33, 12, 11, 55, 32, 53, 82, 69, 65, 28, 92, 95, 57, 22, 98, 49, 58, 88, 35, 13, 99, 9, 12, 94, 51, 14, 17, 63, 31, 48, 8, 28, 53, 51, 70, 42, 6, 7, 2, 9, 82, 53, 49, 97, 2, 7, 77, 42, 55, 77, 22, 55, 73, 83, 40, 56, 20, 29, 65, 34, 73, 86, 39, 87, 61, 25]\n"
     ]
    }
   ],
   "source": [
    "from random import randint\n",
    "\n",
    "n = int(input(\"Size of list: \"))             # Size of list\n",
    "x = []                                       # empty list\n",
    "for i in range(n):\n",
    "    val = randint(1,100)                     # random number between 1 and 100 \n",
    "    x.append(val)                            # add value to list\n",
    "print(x)    "
   ]
  },
  {
   "cell_type": "markdown",
   "metadata": {},
   "source": [
    "### Question-2 Calculate the mean, max, min, sum of list "
   ]
  },
  {
   "cell_type": "code",
   "execution_count": 4,
   "metadata": {},
   "outputs": [
    {
     "name": "stdout",
     "output_type": "stream",
     "text": [
      "Total:  4834\n",
      "Min:  2\n",
      "Max:  99\n",
      "Mean:  48.34\n"
     ]
    }
   ],
   "source": [
    "total = sum(x)\n",
    "xmin = min(x)                      # built in functions\n",
    "xmax = max(x)\n",
    "xmean = total/len(x)\n",
    "print(\"Total: \", total)\n",
    "print(\"Min: \", xmin)\n",
    "print(\"Max: \", xmax)\n",
    "print(\"Mean: \", xmean)\n",
    "\n",
    "# more builtin function at python.org"
   ]
  },
  {
   "cell_type": "markdown",
   "metadata": {},
   "source": [
    "### Question-3 Generate a list of 25 elements, then create a smaller list of numbers from that list based on the following conditions:\n",
    " - number that is divisible by 3\n",
    " - number that is divisible by 5\n",
    " - number that is divisible by 3 and 5"
   ]
  },
  {
   "cell_type": "code",
   "execution_count": 10,
   "metadata": {},
   "outputs": [
    {
     "name": "stdout",
     "output_type": "stream",
     "text": [
      "[1, 2, 3, 4, 5, 6, 7, 8, 9, 10, 11, 12, 13, 14, 15, 16, 17, 18, 19, 20, 21, 22, 23, 24, 25]\n",
      "[3, 5, 6, 9, 10, 12, 15, 18, 20, 21, 24, 25]\n"
     ]
    }
   ],
   "source": [
    "x = list(range(1, 26))\n",
    "print(x)\n",
    "xs = []\n",
    "for i in x:\n",
    "    if i % 3 == 0:\n",
    "        xs.append(i)\n",
    "    elif i % 5 == 0:\n",
    "        xs.append(i)\n",
    "    elif i % 3 == 0 and i % 5 == 0:\n",
    "        xs.append(i)        \n",
    "print(xs)        "
   ]
  },
  {
   "cell_type": "markdown",
   "metadata": {},
   "source": [
    "### Question 4. Remove every 3rd element from the list from a list of size 25 and print the list"
   ]
  },
  {
   "cell_type": "code",
   "execution_count": 22,
   "metadata": {},
   "outputs": [
    {
     "name": "stdout",
     "output_type": "stream",
     "text": [
      "0\n",
      "3\n",
      "6\n",
      "9\n",
      "12\n",
      "15\n",
      "18\n"
     ]
    }
   ],
   "source": [
    "x = list(range(1, 26))\n",
    "for i , v in  enumerate(x):\n",
    "    if i % 3 == 0:\n",
    "        x.pop()\n",
    "        print(i)    \n",
    "\n",
    "\n"
   ]
  },
  {
   "cell_type": "code",
   "execution_count": 24,
   "metadata": {},
   "outputs": [
    {
     "name": "stdout",
     "output_type": "stream",
     "text": [
      "[101, 102, 103, 105, 106, 107, 109, 110, 111, 113, 114, 115, 117, 118, 119, 121, 122, 123]\n"
     ]
    }
   ],
   "source": [
    "x = list(range(100, 125))\n",
    "for i , v in  enumerate(x):\n",
    "    if i % 3 == 0:\n",
    "        x.pop(i)\n",
    "print(x)    \n"
   ]
  },
  {
   "cell_type": "markdown",
   "metadata": {},
   "source": [
    "### Question.5 Take names of 10 movies from user and store them in a list, then display the list in a sorted order"
   ]
  },
  {
   "cell_type": "code",
   "execution_count": 30,
   "metadata": {},
   "outputs": [
    {
     "name": "stdout",
     "output_type": "stream",
     "text": [
      "['RM', 'Suga', 'army', 'bts', 'hello world', 'jhope', 'jimin', 'jin', 'jungkook', 'tae']\n"
     ]
    }
   ],
   "source": [
    "movie = []\n",
    "for i in range(10):\n",
    "    uc = input(\"Enter movie names : \")\n",
    "    movie.append(uc)\n",
    "movie.sort()    \n",
    "print(movie)    "
   ]
  },
  {
   "cell_type": "markdown",
   "metadata": {},
   "source": [
    "### Question-6. Create a nested list that contains triplets at each index?\n",
    "                [[1, 2, 3], [4, 5, 6], [7, 8, 9]] "
   ]
  },
  {
   "cell_type": "code",
   "execution_count": 31,
   "metadata": {},
   "outputs": [
    {
     "name": "stdout",
     "output_type": "stream",
     "text": [
      "[[0, 0, 0], [1, 1, 1], [2, 2, 2], [3, 3, 3], [4, 4, 4]]\n"
     ]
    }
   ],
   "source": [
    "x3 = []\n",
    "for i in range(5):\n",
    "    x3.append([i, i, i])\n",
    "print(x3)    "
   ]
  },
  {
   "cell_type": "code",
   "execution_count": 48,
   "metadata": {},
   "outputs": [
    {
     "name": "stdout",
     "output_type": "stream",
     "text": [
      "[[1, 2, 3], [4, 5, 6], [7, 8, 9]]\n"
     ]
    }
   ],
   "source": [
    "outer = []\n",
    "count = 1\n",
    "for i in range(1, 4):\n",
    "    inner = []\n",
    "    for j in range(1, 4):\n",
    "        inner.append(count)\n",
    "        count += 1\n",
    "    outer.append(inner)    \n",
    "print(outer)    "
   ]
  },
  {
   "cell_type": "code",
   "execution_count": null,
   "metadata": {},
   "outputs": [],
   "source": []
  }
 ],
 "metadata": {
  "interpreter": {
   "hash": "5ae58900cfbb8c43ab3495913814b7cf26024f51651a94ce8bf64d6111688e8d"
  },
  "kernelspec": {
   "display_name": "Python 3.9.7 ('base')",
   "language": "python",
   "name": "python3"
  },
  "language_info": {
   "codemirror_mode": {
    "name": "ipython",
    "version": 3
   },
   "file_extension": ".py",
   "mimetype": "text/x-python",
   "name": "python",
   "nbconvert_exporter": "python",
   "pygments_lexer": "ipython3",
   "version": "3.9.7"
  },
  "orig_nbformat": 4
 },
 "nbformat": 4,
 "nbformat_minor": 2
}
