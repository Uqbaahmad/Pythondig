{
 "cells": [
  {
   "cell_type": "markdown",
   "metadata": {},
   "source": [
    "## CONDITION"
   ]
  },
  {
   "cell_type": "code",
   "execution_count": 1,
   "metadata": {},
   "outputs": [
    {
     "name": "stdout",
     "output_type": "stream",
     "text": [
      "You see an apple seller\n",
      "You dont purchase apples\n"
     ]
    }
   ],
   "source": [
    "print(\"You see an apple seller\")\n",
    "q = input(\"Do you like apples? \")\n",
    "\n",
    "if q == \"yes\":                                       # : - colon\n",
    "    print(\"Purchase 2 kg of apples\")\n",
    "if q == \"no\":\n",
    "    print(\"You dont purchase apples\")    \n"
   ]
  },
  {
   "cell_type": "code",
   "execution_count": 3,
   "metadata": {},
   "outputs": [
    {
     "name": "stdout",
     "output_type": "stream",
     "text": [
      "x is greater than 5\n",
      "This is the info we needed\n",
      "With this power, comes great responsiblity\n",
      "The end\n"
     ]
    }
   ],
   "source": [
    "x = 10\n",
    "if x > 5:\n",
    "    print(\"x is greater than 5\")\n",
    "    print(\"This is the info we needed\")\n",
    "    print(\"With this power, comes great responsiblity\")\n",
    "print(\"The end\")    "
   ]
  },
  {
   "cell_type": "code",
   "execution_count": 4,
   "metadata": {},
   "outputs": [
    {
     "name": "stdout",
     "output_type": "stream",
     "text": [
      "wear full pant\n",
      "Get some exercise outside.\n"
     ]
    }
   ],
   "source": [
    "temp = float(input(\"What is temperature? \"))\n",
    "if temp > 70:\n",
    "    print(\"Wear Shorts\")\n",
    "else:\n",
    "    print(\"wear full pant\") \n",
    "print(\"Get some exercise outside.\")       "
   ]
  },
  {
   "cell_type": "markdown",
   "metadata": {},
   "source": [
    "#### WAP to calculate the total bill of customer, gst is 5%. if the amount is less than 500 then give discount of 10%, else give of 20% "
   ]
  },
  {
   "cell_type": "code",
   "execution_count": 9,
   "metadata": {},
   "outputs": [
    {
     "name": "stdout",
     "output_type": "stream",
     "text": [
      "Calculate the total bill\n",
      "Give discount 20%\n"
     ]
    }
   ],
   "source": [
    "print(\"Calculate the total bill\")\n",
    "amount = float(input(\"Print number\"))\n",
    "gst = amount * 0.5\n",
    "total = amount + gst\n",
    "\n",
    "if total < 500:\n",
    "    print(\"Give Discount of 10%\")\n",
    "else:\n",
    "    print(\"Give discount 20%\")     "
   ]
  },
  {
   "cell_type": "code",
   "execution_count": 10,
   "metadata": {},
   "outputs": [
    {
     "name": "stdout",
     "output_type": "stream",
     "text": [
      "The Second amount is 3360.0\n"
     ]
    }
   ],
   "source": [
    "amt = float(input(\"enter bill amt: \"))\n",
    "gst = amt * .05\n",
    "total = amt + gst\n",
    "if total < 500:\n",
    "    disc = total* .1\n",
    "    final = total - disc\n",
    "    print(f\"The first amount is {final}\") \n",
    "else:\n",
    "    disc = total * .2\n",
    "    final = total - disc\n",
    "    print(f\"The Second amount is {final}\")       "
   ]
  },
  {
   "cell_type": "code",
   "execution_count": 16,
   "metadata": {},
   "outputs": [
    {
     "name": "stdout",
     "output_type": "stream",
     "text": [
      "Your Score\n",
      "B\n"
     ]
    }
   ],
   "source": [
    "print(\"Your Score\")\n",
    "score = int(input(\"You score ->\"))\n",
    "if score >= 90:\n",
    "    letter = \"A\"\n",
    "elif score >= 80:\n",
    "    letter = \"B\"\n",
    "elif score >= 70:\n",
    "    letter = \"C\" \n",
    "elif score >= 60:\n",
    "    letter = \"D\" \n",
    "else:\n",
    "    letter = \"F\" \n",
    "print(letter)                 "
   ]
  },
  {
   "cell_type": "code",
   "execution_count": 17,
   "metadata": {},
   "outputs": [
    {
     "name": "stdout",
     "output_type": "stream",
     "text": [
      "42\n"
     ]
    }
   ],
   "source": [
    "# One - Liner Alternative 1:\n",
    "\n",
    "if 42 in range(100): print(\"42\")"
   ]
  },
  {
   "cell_type": "code",
   "execution_count": 18,
   "metadata": {},
   "outputs": [
    {
     "name": "stdout",
     "output_type": "stream",
     "text": [
      "Alice\n"
     ]
    }
   ],
   "source": [
    "# One -Liner Alternative 2:\n",
    "\n",
    "x =\"Alice\" if \"Jon\" in \"My name is Jonas\" else \"Bob\"\n",
    "print(x)"
   ]
  },
  {
   "cell_type": "code",
   "execution_count": 19,
   "metadata": {},
   "outputs": [
    {
     "name": "stdout",
     "output_type": "stream",
     "text": [
      "42\n"
     ]
    }
   ],
   "source": [
    "# One - Liner Alternative 3:\n",
    "\n",
    "print(\"42\") if 42 in [22, 33, 42] else print(\"21\")"
   ]
  },
  {
   "cell_type": "code",
   "execution_count": null,
   "metadata": {},
   "outputs": [],
   "source": []
  }
 ],
 "metadata": {
  "interpreter": {
   "hash": "5ae58900cfbb8c43ab3495913814b7cf26024f51651a94ce8bf64d6111688e8d"
  },
  "kernelspec": {
   "display_name": "Python 3.9.7 ('base')",
   "language": "python",
   "name": "python3"
  },
  "language_info": {
   "codemirror_mode": {
    "name": "ipython",
    "version": 3
   },
   "file_extension": ".py",
   "mimetype": "text/x-python",
   "name": "python",
   "nbconvert_exporter": "python",
   "pygments_lexer": "ipython3",
   "version": "3.9.7"
  },
  "orig_nbformat": 4
 },
 "nbformat": 4,
 "nbformat_minor": 2
}
