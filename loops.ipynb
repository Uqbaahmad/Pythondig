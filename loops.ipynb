{
 "cells": [
  {
   "cell_type": "code",
   "execution_count": 1,
   "metadata": {},
   "outputs": [
    {
     "name": "stdout",
     "output_type": "stream",
     "text": [
      "P\n",
      "Y\n",
      "T\n",
      "H\n",
      "O\n",
      "N\n"
     ]
    }
   ],
   "source": [
    "x = 'PYTHON'\n",
    "for i in x:\n",
    "    print(i)"
   ]
  },
  {
   "cell_type": "code",
   "execution_count": 8,
   "metadata": {},
   "outputs": [
    {
     "name": "stdout",
     "output_type": "stream",
     "text": [
      "Once upon a time"
     ]
    }
   ],
   "source": [
    "story = \"Once upon a time\"\n",
    "for char in story:\n",
    "    print(char, end = '')"
   ]
  },
  {
   "cell_type": "code",
   "execution_count": 7,
   "metadata": {},
   "outputs": [
    {
     "name": "stdout",
     "output_type": "stream",
     "text": [
      "Alice 5\n",
      "Bob 3\n",
      "charlie 7\n",
      "David 5\n",
      "Eve 3\n",
      "Frank 5\n"
     ]
    }
   ],
   "source": [
    "names = ['Alice', 'Bob', 'charlie', 'David', 'Eve', 'Frank']\n",
    "for name in names:\n",
    "    print(name, len(name))"
   ]
  },
  {
   "cell_type": "code",
   "execution_count": 9,
   "metadata": {},
   "outputs": [
    {
     "name": "stdout",
     "output_type": "stream",
     "text": [
      "i have Apple\n",
      "i have Lichi\n",
      "i have Pineapple\n",
      "i have Mango\n"
     ]
    }
   ],
   "source": [
    "fruits = [\"Apple\", \"Lichi\", \"Pineapple\", \"Mango\"]\n",
    "for item in fruits:\n",
    "    print(f'i have {item}')"
   ]
  },
  {
   "cell_type": "code",
   "execution_count": 10,
   "metadata": {},
   "outputs": [
    {
     "name": "stdout",
     "output_type": "stream",
     "text": [
      "you got point0\n",
      "you got point1\n",
      "you got point2\n",
      "you got point3\n",
      "you got point4\n",
      "you got point5\n"
     ]
    }
   ],
   "source": [
    "for i in range(6):\n",
    "    print(f'you got point{i}')"
   ]
  },
  {
   "cell_type": "code",
   "execution_count": 11,
   "metadata": {},
   "outputs": [
    {
     "name": "stdout",
     "output_type": "stream",
     "text": [
      "You got point 0\n",
      "You got point 1\n",
      "You got point 2\n",
      "You got point 3\n",
      "You got point 4\n",
      "You got point 5\n",
      "You got point 6\n",
      "You got point 7\n",
      "You got point 8\n",
      "You got point 9\n"
     ]
    }
   ],
   "source": [
    "for i in range(10):\n",
    "    print('You got point', i)"
   ]
  },
  {
   "cell_type": "code",
   "execution_count": 12,
   "metadata": {},
   "outputs": [
    {
     "name": "stdout",
     "output_type": "stream",
     "text": [
      "Sheep 2\n",
      "Sheep 3\n",
      "Sheep 4\n",
      "Sheep 5\n",
      "Sheep 6\n",
      "Sheep 7\n",
      "Sheep 8\n",
      "Sheep 9\n",
      "Sheep 10\n"
     ]
    }
   ],
   "source": [
    "for num in range(2,11):\n",
    "    print('Sheep', num)"
   ]
  },
  {
   "cell_type": "code",
   "execution_count": 13,
   "metadata": {},
   "outputs": [
    {
     "name": "stdout",
     "output_type": "stream",
     "text": [
      "Level 1\n",
      "Level 4\n",
      "Level 7\n"
     ]
    }
   ],
   "source": [
    "for num in range(1, 10, 3):\n",
    "    print(\"Level\", num)"
   ]
  },
  {
   "cell_type": "code",
   "execution_count": 14,
   "metadata": {},
   "outputs": [
    {
     "name": "stdout",
     "output_type": "stream",
     "text": [
      "10\n",
      "9\n",
      "8\n",
      "7\n",
      "6\n"
     ]
    }
   ],
   "source": [
    "# Reverse Loop\n",
    "for num in range(10, 5, -1):\n",
    "    print(num)"
   ]
  },
  {
   "cell_type": "code",
   "execution_count": 16,
   "metadata": {},
   "outputs": [
    {
     "name": "stdout",
     "output_type": "stream",
     "text": [
      "\n",
      "*\n",
      "**\n",
      "***\n",
      "****\n",
      "*****\n",
      "******\n",
      "*******\n",
      "********\n",
      "*********\n"
     ]
    }
   ],
   "source": [
    "# pattern loop\n",
    "for i in range(10):\n",
    "    print(i * \"*\")"
   ]
  },
  {
   "cell_type": "code",
   "execution_count": 18,
   "metadata": {},
   "outputs": [
    {
     "name": "stdout",
     "output_type": "stream",
     "text": [
      "\n",
      "NA\n",
      "NANA\n",
      "NANANA\n",
      "NANANANA\n",
      "NANANANANA\n",
      "NANANANANANA\n"
     ]
    }
   ],
   "source": [
    "for i in range(7):\n",
    "    print(i * \"NA\")"
   ]
  },
  {
   "cell_type": "markdown",
   "metadata": {},
   "source": [
    "### Write a program to calculate the total of all numbers from 1 to 50"
   ]
  },
  {
   "cell_type": "code",
   "execution_count": 22,
   "metadata": {},
   "outputs": [
    {
     "name": "stdout",
     "output_type": "stream",
     "text": [
      "1275\n"
     ]
    }
   ],
   "source": [
    "total = 0\n",
    "for i in range(1, 51):\n",
    "    total += i\n",
    "print(total)\n"
   ]
  },
  {
   "cell_type": "code",
   "execution_count": 28,
   "metadata": {},
   "outputs": [
    {
     "name": "stdout",
     "output_type": "stream",
     "text": [
      "1683\n"
     ]
    }
   ],
   "source": [
    "total = 0\n",
    "for i in range(1, 100):\n",
    "    if i % 3 == 0:\n",
    "        total += i\n",
    "print(total)\n",
    "    "
   ]
  },
  {
   "cell_type": "code",
   "execution_count": 29,
   "metadata": {},
   "outputs": [
    {
     "name": "stdout",
     "output_type": "stream",
     "text": [
      "33\n"
     ]
    }
   ],
   "source": [
    "total = 0\n",
    "for i in range(3, 100, 3):\n",
    "    total += 1\n",
    "print(total)    "
   ]
  },
  {
   "cell_type": "markdown",
   "metadata": {},
   "source": [
    "### wap to calculate the average(mean) of all numbers from 1 to 100"
   ]
  },
  {
   "cell_type": "code",
   "execution_count": 2,
   "metadata": {},
   "outputs": [
    {
     "name": "stdout",
     "output_type": "stream",
     "text": [
      "50.0\n"
     ]
    }
   ],
   "source": [
    "total = 0\n",
    "for i in range(1, 100):\n",
    "    total += i\n",
    "mean = total / 99\n",
    "print(mean)    "
   ]
  },
  {
   "cell_type": "code",
   "execution_count": 1,
   "metadata": {},
   "outputs": [
    {
     "name": "stdout",
     "output_type": "stream",
     "text": [
      "50.01010101010101\n"
     ]
    }
   ],
   "source": [
    "total = 1\n",
    "for i in range(1, 100):\n",
    "    total += i\n",
    "mean = total / 99\n",
    "print(mean)    "
   ]
  },
  {
   "cell_type": "code",
   "execution_count": null,
   "metadata": {},
   "outputs": [],
   "source": []
  }
 ],
 "metadata": {
  "interpreter": {
   "hash": "5ae58900cfbb8c43ab3495913814b7cf26024f51651a94ce8bf64d6111688e8d"
  },
  "kernelspec": {
   "display_name": "Python 3.9.7 ('base')",
   "language": "python",
   "name": "python3"
  },
  "language_info": {
   "codemirror_mode": {
    "name": "ipython",
    "version": 3
   },
   "file_extension": ".py",
   "mimetype": "text/x-python",
   "name": "python",
   "nbconvert_exporter": "python",
   "pygments_lexer": "ipython3",
   "version": "3.9.7"
  },
  "orig_nbformat": 4
 },
 "nbformat": 4,
 "nbformat_minor": 2
}
