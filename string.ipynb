{
 "cells": [
  {
   "cell_type": "code",
   "execution_count": 1,
   "metadata": {},
   "outputs": [
    {
     "name": "stdout",
     "output_type": "stream",
     "text": [
      "Hello\n"
     ]
    }
   ],
   "source": [
    "# defining strings in python\n",
    "# all of the following are equivalent\n",
    "my_string = 'Hello'\n",
    "print(my_string)"
   ]
  },
  {
   "cell_type": "code",
   "execution_count": 3,
   "metadata": {},
   "outputs": [
    {
     "name": "stdout",
     "output_type": "stream",
     "text": [
      "Hello\n",
      "Hello\n",
      "Hello, welcome to\n",
      "the world of python\n"
     ]
    }
   ],
   "source": [
    "my_string = \"Hello\"\n",
    "print(my_string)\n",
    "my_string = '''Hello'''\n",
    "print(my_string)\n",
    "\n",
    "# triple quotes string can extend multiple\n",
    "my_string = \"\"\"Hello, welcome to\n",
    "the world of python\"\"\"\n",
    "print(my_string)"
   ]
  },
  {
   "cell_type": "code",
   "execution_count": 4,
   "metadata": {},
   "outputs": [
    {
     "name": "stdout",
     "output_type": "stream",
     "text": [
      "str =  digipodium\n",
      "str[0] = d\n",
      "str[1] =  i\n",
      "str[2] =  g\n"
     ]
    }
   ],
   "source": [
    "# Accessing string characters in python\n",
    "str = 'digipodium'\n",
    "print(\"str = \", str)\n",
    "\n",
    "#first character\n",
    "print(\"str[0] =\", str[0])\n",
    "\n",
    "#second character\n",
    "print(\"str[1] = \", str[1])\n",
    "\n",
    "#third character\n",
    "print(\"str[2] = \", str[2])"
   ]
  },
  {
   "cell_type": "code",
   "execution_count": 5,
   "metadata": {},
   "outputs": [
    {
     "data": {
      "text/plain": [
       "19"
      ]
     },
     "execution_count": 5,
     "metadata": {},
     "output_type": "execute_result"
    }
   ],
   "source": [
    "word = 'Stormlight Archieve'\n",
    "len(word)"
   ]
  },
  {
   "cell_type": "code",
   "execution_count": 6,
   "metadata": {},
   "outputs": [
    {
     "name": "stdout",
     "output_type": "stream",
     "text": [
      "A t m\n"
     ]
    }
   ],
   "source": [
    "print(word[-8], word[1], word[4])"
   ]
  },
  {
   "cell_type": "code",
   "execution_count": 7,
   "metadata": {},
   "outputs": [
    {
     "data": {
      "text/plain": [
       "' '"
      ]
     },
     "execution_count": 7,
     "metadata": {},
     "output_type": "execute_result"
    }
   ],
   "source": [
    "word[10]"
   ]
  },
  {
   "cell_type": "code",
   "execution_count": 8,
   "metadata": {},
   "outputs": [
    {
     "name": "stdout",
     "output_type": "stream",
     "text": [
      " \n"
     ]
    }
   ],
   "source": [
    "print(word[10])"
   ]
  },
  {
   "cell_type": "markdown",
   "metadata": {},
   "source": [
    "### String Slicing"
   ]
  },
  {
   "cell_type": "code",
   "execution_count": 9,
   "metadata": {},
   "outputs": [
    {
     "name": "stdout",
     "output_type": "stream",
     "text": [
      "pod\n"
     ]
    }
   ],
   "source": [
    "# getting a slice\n",
    "s = 'digipodium'\n",
    "slice1 = s[4:7]\n",
    "print(slice1)"
   ]
  },
  {
   "cell_type": "code",
   "execution_count": 10,
   "metadata": {},
   "outputs": [
    {
     "name": "stdout",
     "output_type": "stream",
     "text": [
      "podium\n"
     ]
    }
   ],
   "source": [
    "slice2 = s[4:10]\n",
    "print(slice2)"
   ]
  },
  {
   "cell_type": "code",
   "execution_count": 18,
   "metadata": {},
   "outputs": [
    {
     "name": "stdout",
     "output_type": "stream",
     "text": [
      "digipod\n",
      "digipod\n",
      "podium\n"
     ]
    }
   ],
   "source": [
    "s = 'digipodium'\n",
    "slice1 = s[0:7]\n",
    "slice2 = s[:7]\n",
    "slice3 = s[4: len(s)]\n",
    "print(slice1)\n",
    "print(slice2)\n",
    "print(slice3)"
   ]
  },
  {
   "cell_type": "code",
   "execution_count": 13,
   "metadata": {},
   "outputs": [
    {
     "data": {
      "text/plain": [
       "'DEVELOP'"
      ]
     },
     "execution_count": 13,
     "metadata": {},
     "output_type": "execute_result"
    }
   ],
   "source": [
    "x = \"DEVELOPER\"\n",
    "x[:2]\n",
    "x[:-2]"
   ]
  },
  {
   "cell_type": "code",
   "execution_count": 14,
   "metadata": {},
   "outputs": [
    {
     "data": {
      "text/plain": [
       "'LOPER'"
      ]
     },
     "execution_count": 14,
     "metadata": {},
     "output_type": "execute_result"
    }
   ],
   "source": [
    "x[4:]"
   ]
  },
  {
   "cell_type": "code",
   "execution_count": 15,
   "metadata": {},
   "outputs": [
    {
     "data": {
      "text/plain": [
       "'Sodium'"
      ]
     },
     "execution_count": 15,
     "metadata": {},
     "output_type": "execute_result"
    }
   ],
   "source": [
    "x = \"Sodium Carbonate\"\n",
    "x[:6]"
   ]
  },
  {
   "cell_type": "code",
   "execution_count": 16,
   "metadata": {},
   "outputs": [
    {
     "data": {
      "text/plain": [
       "'Carbonate'"
      ]
     },
     "execution_count": 16,
     "metadata": {},
     "output_type": "execute_result"
    }
   ],
   "source": [
    "x[7:]"
   ]
  },
  {
   "cell_type": "code",
   "execution_count": 20,
   "metadata": {},
   "outputs": [
    {
     "data": {
      "text/plain": [
       "'LENT'"
      ]
     },
     "execution_count": 20,
     "metadata": {},
     "output_type": "execute_result"
    }
   ],
   "source": [
    "x = \"EXCELLENT\"\n",
    "x[:5]\n",
    "x[5:]"
   ]
  },
  {
   "cell_type": "markdown",
   "metadata": {},
   "source": [
    "- char() - convert integer to string char \\n\n",
    "- ord() - convert a char to integer\n",
    "- len() - returns length of string\n",
    "- str() - converts itmes to string"
   ]
  },
  {
   "cell_type": "code",
   "execution_count": 21,
   "metadata": {},
   "outputs": [
    {
     "name": "stdout",
     "output_type": "stream",
     "text": [
      "A\n",
      "ऽ\n",
      "〹\n"
     ]
    }
   ],
   "source": [
    "x = chr(65)                        # chr = unicode\n",
    "print(x)\n",
    "x = chr(2365)\n",
    "print(x)\n",
    "x = chr(12345)\n",
    "print(x)"
   ]
  },
  {
   "cell_type": "markdown",
   "metadata": {},
   "source": [
    "- string concatenation\n",
    "- string dulpication (cloning) using str *"
   ]
  },
  {
   "cell_type": "code",
   "execution_count": 1,
   "metadata": {},
   "outputs": [
    {
     "name": "stdout",
     "output_type": "stream",
     "text": [
      "--------------------\n",
      "Hello World\n",
      "--------------------\n"
     ]
    }
   ],
   "source": [
    "print('-' * 20)\n",
    "print('Hello World')\n",
    "print('-' * 20)                           # this is duplication"
   ]
  },
  {
   "cell_type": "code",
   "execution_count": 2,
   "metadata": {},
   "outputs": [],
   "source": [
    " w = \"WorldfamousboybandisBTS\""
   ]
  },
  {
   "cell_type": "code",
   "execution_count": 4,
   "metadata": {},
   "outputs": [
    {
     "data": {
      "text/plain": [
       "['W',\n",
       " 'o',\n",
       " 'r',\n",
       " 'l',\n",
       " 'd',\n",
       " 'f',\n",
       " 'a',\n",
       " 'm',\n",
       " 'o',\n",
       " 'u',\n",
       " 's',\n",
       " 'b',\n",
       " 'o',\n",
       " 'y',\n",
       " 'b',\n",
       " 'a',\n",
       " 'n',\n",
       " 'd',\n",
       " 'i',\n",
       " 's',\n",
       " 'B',\n",
       " 'T',\n",
       " 'S']"
      ]
     },
     "execution_count": 4,
     "metadata": {},
     "output_type": "execute_result"
    }
   ],
   "source": [
    "list(w)"
   ]
  },
  {
   "cell_type": "code",
   "execution_count": 5,
   "metadata": {},
   "outputs": [
    {
     "data": {
      "text/plain": [
       "'World'"
      ]
     },
     "execution_count": 5,
     "metadata": {},
     "output_type": "execute_result"
    }
   ],
   "source": [
    "#slicing\n",
    "w[:5]"
   ]
  },
  {
   "cell_type": "code",
   "execution_count": 6,
   "metadata": {},
   "outputs": [
    {
     "data": {
      "text/plain": [
       "'olfmubyadsT'"
      ]
     },
     "execution_count": 6,
     "metadata": {},
     "output_type": "execute_result"
    }
   ],
   "source": [
    "# for odd index position\n",
    "w[1::2]                         #  (1- start , 2-end, 3 - jump)"
   ]
  },
  {
   "cell_type": "code",
   "execution_count": 8,
   "metadata": {},
   "outputs": [
    {
     "data": {
      "text/plain": [
       "'WrdaosobniBS'"
      ]
     },
     "execution_count": 8,
     "metadata": {},
     "output_type": "execute_result"
    }
   ],
   "source": [
    "# for even index position\n",
    "w[0::2]\n",
    "w[::2]"
   ]
  },
  {
   "cell_type": "code",
   "execution_count": 9,
   "metadata": {},
   "outputs": [
    {
     "data": {
      "text/plain": [
       "'STBsidnabyobsuomafdlroW'"
      ]
     },
     "execution_count": 9,
     "metadata": {},
     "output_type": "execute_result"
    }
   ],
   "source": [
    "# for reverse string\n",
    "w[::-1]"
   ]
  },
  {
   "cell_type": "code",
   "execution_count": 10,
   "metadata": {},
   "outputs": [
    {
     "data": {
      "text/plain": [
       "'abyobsuomafdlroW'"
      ]
     },
     "execution_count": 10,
     "metadata": {},
     "output_type": "execute_result"
    }
   ],
   "source": [
    "w[-8::-1]"
   ]
  },
  {
   "cell_type": "code",
   "execution_count": 11,
   "metadata": {},
   "outputs": [
    {
     "name": "stdout",
     "output_type": "stream",
     "text": [
      "65\n",
      "97\n",
      "123\n"
     ]
    }
   ],
   "source": [
    "y = ord('A')                  # order = ord()\n",
    "print(y)\n",
    "y = ord('a')\n",
    "print(y)\n",
    "y = ord(\"{\")\n",
    "print(y)"
   ]
  },
  {
   "cell_type": "code",
   "execution_count": 18,
   "metadata": {},
   "outputs": [
    {
     "name": "stdout",
     "output_type": "stream",
     "text": [
      "            L \n",
      "          L L \n",
      "        L L L \n",
      "      L L L L \n",
      "    L L L L L \n"
     ]
    }
   ],
   "source": [
    "# right alignment\n",
    "\n",
    "for i in range(1,6):\n",
    "    print((i * 'L ').rjust(14))"
   ]
  },
  {
   "cell_type": "code",
   "execution_count": 15,
   "metadata": {},
   "outputs": [
    {
     "name": "stdout",
     "output_type": "stream",
     "text": [
      "L              \n",
      "L L            \n",
      "L L L          \n",
      "L L L L        \n",
      "L L L L L      \n"
     ]
    }
   ],
   "source": [
    "for i in range(1, 6):\n",
    "    print((i * 'L ').ljust(15))"
   ]
  },
  {
   "cell_type": "code",
   "execution_count": 17,
   "metadata": {},
   "outputs": [
    {
     "data": {
      "text/plain": [
       "'                                                         WorldfamousboybandisBTS'"
      ]
     },
     "execution_count": 17,
     "metadata": {},
     "output_type": "execute_result"
    }
   ],
   "source": [
    "# right justification /  alignment            (80) - means (size) area or space\n",
    "w.rjust(80)"
   ]
  },
  {
   "cell_type": "code",
   "execution_count": 19,
   "metadata": {},
   "outputs": [
    {
     "name": "stdout",
     "output_type": "stream",
     "text": [
      "               T              \n",
      "             T T T            \n",
      "           T T T T T          \n",
      "         T T T T T T T        \n",
      "       T T T T T T T T T      \n",
      "     T T T T T T T T T T T    \n",
      "   T T T T T T T T T T T T T  \n"
     ]
    }
   ],
   "source": [
    "for i in range(1, 15, 2):\n",
    "    print((i * ' T').center(30))"
   ]
  },
  {
   "cell_type": "code",
   "execution_count": 20,
   "metadata": {},
   "outputs": [
    {
     "name": "stdout",
     "output_type": "stream",
     "text": [
      "                    ^                   \n",
      "                  ^ ^ ^                 \n",
      "                ^ ^ ^ ^ ^               \n",
      "              ^ ^ ^ ^ ^ ^ ^             \n",
      "            ^ ^ ^ ^ ^ ^ ^ ^ ^           \n",
      "          ^ ^ ^ ^ ^ ^ ^ ^ ^ ^ ^         \n",
      "        ^ ^ ^ ^ ^ ^ ^ ^ ^ ^ ^ ^ ^       \n"
     ]
    }
   ],
   "source": [
    "for i in range(1, 15, 2):\n",
    "    print((i * ' ^').center(40))"
   ]
  },
  {
   "cell_type": "code",
   "execution_count": 21,
   "metadata": {},
   "outputs": [
    {
     "name": "stdout",
     "output_type": "stream",
     "text": [
      "   * * * * * * * * * * * * *  \n"
     ]
    }
   ],
   "source": [
    "#question of patter * 00 *** 000"
   ]
  },
  {
   "cell_type": "code",
   "execution_count": 22,
   "metadata": {},
   "outputs": [
    {
     "name": "stdout",
     "output_type": "stream",
     "text": [
      "                   0                    \n",
      "                0  0  0                 \n",
      "             0  0  0  0  0              \n",
      "          0  0  0  0  0  0  0           \n",
      "       0  0  0  0  0  0  0  0  0        \n",
      "    0  0  0  0  0  0  0  0  0  0  0     \n",
      " 0  0  0  0  0  0  0  0  0  0  0  0  0  \n"
     ]
    }
   ],
   "source": [
    "for p,i in enumerate(range(1, 15, 2)):\n",
    "    print((i * \" 0 \").center(40))"
   ]
  },
  {
   "cell_type": "code",
   "execution_count": 61,
   "metadata": {},
   "outputs": [
    {
     "name": "stdout",
     "output_type": "stream",
     "text": [
      "                   0                    \n",
      "                *  *  *                 \n",
      "             0  0  0  0  0              \n",
      "          *  *  *  *  *  *  *           \n",
      "       0  0  0  0  0  0  0  0  0        \n",
      "    *  *  *  *  *  *  *  *  *  *  *     \n",
      " 0  0  0  0  0  0  0  0  0  0  0  0  0  \n"
     ]
    }
   ],
   "source": [
    "for p,i in enumerate(range(1, 15, 2)):\n",
    "    if p % 2 == 0:\n",
    "        print((i * ' 0 ').center(40))\n",
    "    else:\n",
    "        print((i * ' * ').center(40))    "
   ]
  },
  {
   "cell_type": "code",
   "execution_count": 27,
   "metadata": {},
   "outputs": [
    {
     "name": "stdout",
     "output_type": "stream",
     "text": [
      "Help on class str in module builtins:\n",
      "\n",
      "class str(object)\n",
      " |  str(object='') -> str\n",
      " |  str(bytes_or_buffer[, encoding[, errors]]) -> str\n",
      " |  \n",
      " |  Create a new string object from the given object. If encoding or\n",
      " |  errors is specified, then the object must expose a data buffer\n",
      " |  that will be decoded using the given encoding and error handler.\n",
      " |  Otherwise, returns the result of object.__str__() (if defined)\n",
      " |  or repr(object).\n",
      " |  encoding defaults to sys.getdefaultencoding().\n",
      " |  errors defaults to 'strict'.\n",
      " |  \n",
      " |  Methods defined here:\n",
      " |  \n",
      " |  __add__(self, value, /)\n",
      " |      Return self+value.\n",
      " |  \n",
      " |  __contains__(self, key, /)\n",
      " |      Return key in self.\n",
      " |  \n",
      " |  __eq__(self, value, /)\n",
      " |      Return self==value.\n",
      " |  \n",
      " |  __format__(self, format_spec, /)\n",
      " |      Return a formatted version of the string as described by format_spec.\n",
      " |  \n",
      " |  __ge__(self, value, /)\n",
      " |      Return self>=value.\n",
      " |  \n",
      " |  __getattribute__(self, name, /)\n",
      " |      Return getattr(self, name).\n",
      " |  \n",
      " |  __getitem__(self, key, /)\n",
      " |      Return self[key].\n",
      " |  \n",
      " |  __getnewargs__(...)\n",
      " |  \n",
      " |  __gt__(self, value, /)\n",
      " |      Return self>value.\n",
      " |  \n",
      " |  __hash__(self, /)\n",
      " |      Return hash(self).\n",
      " |  \n",
      " |  __iter__(self, /)\n",
      " |      Implement iter(self).\n",
      " |  \n",
      " |  __le__(self, value, /)\n",
      " |      Return self<=value.\n",
      " |  \n",
      " |  __len__(self, /)\n",
      " |      Return len(self).\n",
      " |  \n",
      " |  __lt__(self, value, /)\n",
      " |      Return self<value.\n",
      " |  \n",
      " |  __mod__(self, value, /)\n",
      " |      Return self%value.\n",
      " |  \n",
      " |  __mul__(self, value, /)\n",
      " |      Return self*value.\n",
      " |  \n",
      " |  __ne__(self, value, /)\n",
      " |      Return self!=value.\n",
      " |  \n",
      " |  __repr__(self, /)\n",
      " |      Return repr(self).\n",
      " |  \n",
      " |  __rmod__(self, value, /)\n",
      " |      Return value%self.\n",
      " |  \n",
      " |  __rmul__(self, value, /)\n",
      " |      Return value*self.\n",
      " |  \n",
      " |  __sizeof__(self, /)\n",
      " |      Return the size of the string in memory, in bytes.\n",
      " |  \n",
      " |  __str__(self, /)\n",
      " |      Return str(self).\n",
      " |  \n",
      " |  capitalize(self, /)\n",
      " |      Return a capitalized version of the string.\n",
      " |      \n",
      " |      More specifically, make the first character have upper case and the rest lower\n",
      " |      case.\n",
      " |  \n",
      " |  casefold(self, /)\n",
      " |      Return a version of the string suitable for caseless comparisons.\n",
      " |  \n",
      " |  center(self, width, fillchar=' ', /)\n",
      " |      Return a centered string of length width.\n",
      " |      \n",
      " |      Padding is done using the specified fill character (default is a space).\n",
      " |  \n",
      " |  count(...)\n",
      " |      S.count(sub[, start[, end]]) -> int\n",
      " |      \n",
      " |      Return the number of non-overlapping occurrences of substring sub in\n",
      " |      string S[start:end].  Optional arguments start and end are\n",
      " |      interpreted as in slice notation.\n",
      " |  \n",
      " |  encode(self, /, encoding='utf-8', errors='strict')\n",
      " |      Encode the string using the codec registered for encoding.\n",
      " |      \n",
      " |      encoding\n",
      " |        The encoding in which to encode the string.\n",
      " |      errors\n",
      " |        The error handling scheme to use for encoding errors.\n",
      " |        The default is 'strict' meaning that encoding errors raise a\n",
      " |        UnicodeEncodeError.  Other possible values are 'ignore', 'replace' and\n",
      " |        'xmlcharrefreplace' as well as any other name registered with\n",
      " |        codecs.register_error that can handle UnicodeEncodeErrors.\n",
      " |  \n",
      " |  endswith(...)\n",
      " |      S.endswith(suffix[, start[, end]]) -> bool\n",
      " |      \n",
      " |      Return True if S ends with the specified suffix, False otherwise.\n",
      " |      With optional start, test S beginning at that position.\n",
      " |      With optional end, stop comparing S at that position.\n",
      " |      suffix can also be a tuple of strings to try.\n",
      " |  \n",
      " |  expandtabs(self, /, tabsize=8)\n",
      " |      Return a copy where all tab characters are expanded using spaces.\n",
      " |      \n",
      " |      If tabsize is not given, a tab size of 8 characters is assumed.\n",
      " |  \n",
      " |  find(...)\n",
      " |      S.find(sub[, start[, end]]) -> int\n",
      " |      \n",
      " |      Return the lowest index in S where substring sub is found,\n",
      " |      such that sub is contained within S[start:end].  Optional\n",
      " |      arguments start and end are interpreted as in slice notation.\n",
      " |      \n",
      " |      Return -1 on failure.\n",
      " |  \n",
      " |  format(...)\n",
      " |      S.format(*args, **kwargs) -> str\n",
      " |      \n",
      " |      Return a formatted version of S, using substitutions from args and kwargs.\n",
      " |      The substitutions are identified by braces ('{' and '}').\n",
      " |  \n",
      " |  format_map(...)\n",
      " |      S.format_map(mapping) -> str\n",
      " |      \n",
      " |      Return a formatted version of S, using substitutions from mapping.\n",
      " |      The substitutions are identified by braces ('{' and '}').\n",
      " |  \n",
      " |  index(...)\n",
      " |      S.index(sub[, start[, end]]) -> int\n",
      " |      \n",
      " |      Return the lowest index in S where substring sub is found,\n",
      " |      such that sub is contained within S[start:end].  Optional\n",
      " |      arguments start and end are interpreted as in slice notation.\n",
      " |      \n",
      " |      Raises ValueError when the substring is not found.\n",
      " |  \n",
      " |  isalnum(self, /)\n",
      " |      Return True if the string is an alpha-numeric string, False otherwise.\n",
      " |      \n",
      " |      A string is alpha-numeric if all characters in the string are alpha-numeric and\n",
      " |      there is at least one character in the string.\n",
      " |  \n",
      " |  isalpha(self, /)\n",
      " |      Return True if the string is an alphabetic string, False otherwise.\n",
      " |      \n",
      " |      A string is alphabetic if all characters in the string are alphabetic and there\n",
      " |      is at least one character in the string.\n",
      " |  \n",
      " |  isascii(self, /)\n",
      " |      Return True if all characters in the string are ASCII, False otherwise.\n",
      " |      \n",
      " |      ASCII characters have code points in the range U+0000-U+007F.\n",
      " |      Empty string is ASCII too.\n",
      " |  \n",
      " |  isdecimal(self, /)\n",
      " |      Return True if the string is a decimal string, False otherwise.\n",
      " |      \n",
      " |      A string is a decimal string if all characters in the string are decimal and\n",
      " |      there is at least one character in the string.\n",
      " |  \n",
      " |  isdigit(self, /)\n",
      " |      Return True if the string is a digit string, False otherwise.\n",
      " |      \n",
      " |      A string is a digit string if all characters in the string are digits and there\n",
      " |      is at least one character in the string.\n",
      " |  \n",
      " |  isidentifier(self, /)\n",
      " |      Return True if the string is a valid Python identifier, False otherwise.\n",
      " |      \n",
      " |      Call keyword.iskeyword(s) to test whether string s is a reserved identifier,\n",
      " |      such as \"def\" or \"class\".\n",
      " |  \n",
      " |  islower(self, /)\n",
      " |      Return True if the string is a lowercase string, False otherwise.\n",
      " |      \n",
      " |      A string is lowercase if all cased characters in the string are lowercase and\n",
      " |      there is at least one cased character in the string.\n",
      " |  \n",
      " |  isnumeric(self, /)\n",
      " |      Return True if the string is a numeric string, False otherwise.\n",
      " |      \n",
      " |      A string is numeric if all characters in the string are numeric and there is at\n",
      " |      least one character in the string.\n",
      " |  \n",
      " |  isprintable(self, /)\n",
      " |      Return True if the string is printable, False otherwise.\n",
      " |      \n",
      " |      A string is printable if all of its characters are considered printable in\n",
      " |      repr() or if it is empty.\n",
      " |  \n",
      " |  isspace(self, /)\n",
      " |      Return True if the string is a whitespace string, False otherwise.\n",
      " |      \n",
      " |      A string is whitespace if all characters in the string are whitespace and there\n",
      " |      is at least one character in the string.\n",
      " |  \n",
      " |  istitle(self, /)\n",
      " |      Return True if the string is a title-cased string, False otherwise.\n",
      " |      \n",
      " |      In a title-cased string, upper- and title-case characters may only\n",
      " |      follow uncased characters and lowercase characters only cased ones.\n",
      " |  \n",
      " |  isupper(self, /)\n",
      " |      Return True if the string is an uppercase string, False otherwise.\n",
      " |      \n",
      " |      A string is uppercase if all cased characters in the string are uppercase and\n",
      " |      there is at least one cased character in the string.\n",
      " |  \n",
      " |  join(self, iterable, /)\n",
      " |      Concatenate any number of strings.\n",
      " |      \n",
      " |      The string whose method is called is inserted in between each given string.\n",
      " |      The result is returned as a new string.\n",
      " |      \n",
      " |      Example: '.'.join(['ab', 'pq', 'rs']) -> 'ab.pq.rs'\n",
      " |  \n",
      " |  ljust(self, width, fillchar=' ', /)\n",
      " |      Return a left-justified string of length width.\n",
      " |      \n",
      " |      Padding is done using the specified fill character (default is a space).\n",
      " |  \n",
      " |  lower(self, /)\n",
      " |      Return a copy of the string converted to lowercase.\n",
      " |  \n",
      " |  lstrip(self, chars=None, /)\n",
      " |      Return a copy of the string with leading whitespace removed.\n",
      " |      \n",
      " |      If chars is given and not None, remove characters in chars instead.\n",
      " |  \n",
      " |  partition(self, sep, /)\n",
      " |      Partition the string into three parts using the given separator.\n",
      " |      \n",
      " |      This will search for the separator in the string.  If the separator is found,\n",
      " |      returns a 3-tuple containing the part before the separator, the separator\n",
      " |      itself, and the part after it.\n",
      " |      \n",
      " |      If the separator is not found, returns a 3-tuple containing the original string\n",
      " |      and two empty strings.\n",
      " |  \n",
      " |  removeprefix(self, prefix, /)\n",
      " |      Return a str with the given prefix string removed if present.\n",
      " |      \n",
      " |      If the string starts with the prefix string, return string[len(prefix):].\n",
      " |      Otherwise, return a copy of the original string.\n",
      " |  \n",
      " |  removesuffix(self, suffix, /)\n",
      " |      Return a str with the given suffix string removed if present.\n",
      " |      \n",
      " |      If the string ends with the suffix string and that suffix is not empty,\n",
      " |      return string[:-len(suffix)]. Otherwise, return a copy of the original\n",
      " |      string.\n",
      " |  \n",
      " |  replace(self, old, new, count=-1, /)\n",
      " |      Return a copy with all occurrences of substring old replaced by new.\n",
      " |      \n",
      " |        count\n",
      " |          Maximum number of occurrences to replace.\n",
      " |          -1 (the default value) means replace all occurrences.\n",
      " |      \n",
      " |      If the optional argument count is given, only the first count occurrences are\n",
      " |      replaced.\n",
      " |  \n",
      " |  rfind(...)\n",
      " |      S.rfind(sub[, start[, end]]) -> int\n",
      " |      \n",
      " |      Return the highest index in S where substring sub is found,\n",
      " |      such that sub is contained within S[start:end].  Optional\n",
      " |      arguments start and end are interpreted as in slice notation.\n",
      " |      \n",
      " |      Return -1 on failure.\n",
      " |  \n",
      " |  rindex(...)\n",
      " |      S.rindex(sub[, start[, end]]) -> int\n",
      " |      \n",
      " |      Return the highest index in S where substring sub is found,\n",
      " |      such that sub is contained within S[start:end].  Optional\n",
      " |      arguments start and end are interpreted as in slice notation.\n",
      " |      \n",
      " |      Raises ValueError when the substring is not found.\n",
      " |  \n",
      " |  rjust(self, width, fillchar=' ', /)\n",
      " |      Return a right-justified string of length width.\n",
      " |      \n",
      " |      Padding is done using the specified fill character (default is a space).\n",
      " |  \n",
      " |  rpartition(self, sep, /)\n",
      " |      Partition the string into three parts using the given separator.\n",
      " |      \n",
      " |      This will search for the separator in the string, starting at the end. If\n",
      " |      the separator is found, returns a 3-tuple containing the part before the\n",
      " |      separator, the separator itself, and the part after it.\n",
      " |      \n",
      " |      If the separator is not found, returns a 3-tuple containing two empty strings\n",
      " |      and the original string.\n",
      " |  \n",
      " |  rsplit(self, /, sep=None, maxsplit=-1)\n",
      " |      Return a list of the words in the string, using sep as the delimiter string.\n",
      " |      \n",
      " |        sep\n",
      " |          The delimiter according which to split the string.\n",
      " |          None (the default value) means split according to any whitespace,\n",
      " |          and discard empty strings from the result.\n",
      " |        maxsplit\n",
      " |          Maximum number of splits to do.\n",
      " |          -1 (the default value) means no limit.\n",
      " |      \n",
      " |      Splits are done starting at the end of the string and working to the front.\n",
      " |  \n",
      " |  rstrip(self, chars=None, /)\n",
      " |      Return a copy of the string with trailing whitespace removed.\n",
      " |      \n",
      " |      If chars is given and not None, remove characters in chars instead.\n",
      " |  \n",
      " |  split(self, /, sep=None, maxsplit=-1)\n",
      " |      Return a list of the words in the string, using sep as the delimiter string.\n",
      " |      \n",
      " |      sep\n",
      " |        The delimiter according which to split the string.\n",
      " |        None (the default value) means split according to any whitespace,\n",
      " |        and discard empty strings from the result.\n",
      " |      maxsplit\n",
      " |        Maximum number of splits to do.\n",
      " |        -1 (the default value) means no limit.\n",
      " |  \n",
      " |  splitlines(self, /, keepends=False)\n",
      " |      Return a list of the lines in the string, breaking at line boundaries.\n",
      " |      \n",
      " |      Line breaks are not included in the resulting list unless keepends is given and\n",
      " |      true.\n",
      " |  \n",
      " |  startswith(...)\n",
      " |      S.startswith(prefix[, start[, end]]) -> bool\n",
      " |      \n",
      " |      Return True if S starts with the specified prefix, False otherwise.\n",
      " |      With optional start, test S beginning at that position.\n",
      " |      With optional end, stop comparing S at that position.\n",
      " |      prefix can also be a tuple of strings to try.\n",
      " |  \n",
      " |  strip(self, chars=None, /)\n",
      " |      Return a copy of the string with leading and trailing whitespace removed.\n",
      " |      \n",
      " |      If chars is given and not None, remove characters in chars instead.\n",
      " |  \n",
      " |  swapcase(self, /)\n",
      " |      Convert uppercase characters to lowercase and lowercase characters to uppercase.\n",
      " |  \n",
      " |  title(self, /)\n",
      " |      Return a version of the string where each word is titlecased.\n",
      " |      \n",
      " |      More specifically, words start with uppercased characters and all remaining\n",
      " |      cased characters have lower case.\n",
      " |  \n",
      " |  translate(self, table, /)\n",
      " |      Replace each character in the string using the given translation table.\n",
      " |      \n",
      " |        table\n",
      " |          Translation table, which must be a mapping of Unicode ordinals to\n",
      " |          Unicode ordinals, strings, or None.\n",
      " |      \n",
      " |      The table must implement lookup/indexing via __getitem__, for instance a\n",
      " |      dictionary or list.  If this operation raises LookupError, the character is\n",
      " |      left untouched.  Characters mapped to None are deleted.\n",
      " |  \n",
      " |  upper(self, /)\n",
      " |      Return a copy of the string converted to uppercase.\n",
      " |  \n",
      " |  zfill(self, width, /)\n",
      " |      Pad a numeric string with zeros on the left, to fill a field of the given width.\n",
      " |      \n",
      " |      The string is never truncated.\n",
      " |  \n",
      " |  ----------------------------------------------------------------------\n",
      " |  Static methods defined here:\n",
      " |  \n",
      " |  __new__(*args, **kwargs) from builtins.type\n",
      " |      Create and return a new object.  See help(type) for accurate signature.\n",
      " |  \n",
      " |  maketrans(...)\n",
      " |      Return a translation table usable for str.translate().\n",
      " |      \n",
      " |      If there is only one argument, it must be a dictionary mapping Unicode\n",
      " |      ordinals (integers) or characters to Unicode ordinals, strings or None.\n",
      " |      Character keys will be then converted to ordinals.\n",
      " |      If there are two arguments, they must be strings of equal length, and\n",
      " |      in the resulting dictionary, each character in x will be mapped to the\n",
      " |      character at the same position in y. If there is a third argument, it\n",
      " |      must be a string, whose characters will be mapped to None in the result.\n",
      "\n"
     ]
    }
   ],
   "source": [
    "help(str)"
   ]
  },
  {
   "cell_type": "code",
   "execution_count": 28,
   "metadata": {},
   "outputs": [
    {
     "name": "stdout",
     "output_type": "stream",
     "text": [
      "\u001b[1;31mSignature:\u001b[0m \u001b[0mw\u001b[0m\u001b[1;33m.\u001b[0m\u001b[0mcenter\u001b[0m\u001b[1;33m(\u001b[0m\u001b[0mwidth\u001b[0m\u001b[1;33m,\u001b[0m \u001b[0mfillchar\u001b[0m\u001b[1;33m=\u001b[0m\u001b[1;34m' '\u001b[0m\u001b[1;33m,\u001b[0m \u001b[1;33m/\u001b[0m\u001b[1;33m)\u001b[0m\u001b[1;33m\u001b[0m\u001b[1;33m\u001b[0m\u001b[0m\n",
      "\u001b[1;31mDocstring:\u001b[0m\n",
      "Return a centered string of length width.\n",
      "\n",
      "Padding is done using the specified fill character (default is a space).\n",
      "\u001b[1;31mType:\u001b[0m      builtin_function_or_method\n"
     ]
    }
   ],
   "source": [
    "w.center?"
   ]
  },
  {
   "cell_type": "code",
   "execution_count": 63,
   "metadata": {},
   "outputs": [
    {
     "name": "stdout",
     "output_type": "stream",
     "text": [
      "------------------ 0 -------------------\n",
      "--------------- *  *  * ----------------\n",
      "------------ 0  0  0  0  0 -------------\n",
      "--------- *  *  *  *  *  *  * ----------\n",
      "------ 0  0  0  0  0  0  0  0  0 -------\n",
      "--- *  *  *  *  *  *  *  *  *  *  * ----\n",
      " 0  0  0  0  0  0  0  0  0  0  0  0  0 -\n"
     ]
    }
   ],
   "source": [
    "# fillchar means filling the spaces\n",
    "\n",
    "for p,v in enumerate(range(1,15,2)):\n",
    "    if p % 2 == 0:\n",
    "        print((v * ' 0 ').center(40, '-'))\n",
    "    else:\n",
    "        print((v * ' * ').center(40, '-'))  "
   ]
  },
  {
   "cell_type": "code",
   "execution_count": 1,
   "metadata": {},
   "outputs": [],
   "source": [
    "story = '''It shows how testing interruptions can change epidemic parameters and shift disease dynamics, and it suggests that regular testing leads to more de-synchronized infected cases.\n",
    "A data-based study on the impact of abrupt changes in intervention policies (testing) and corresponding population synchrony with Bovine-tuberculosis transmission dynamics has been discussed.\n",
    " Numerous studies on the subject have also been conducted in India.\n",
    " Mathematical models can track and predict the course of an epidemic under a variety of conditions.\n",
    " the Coronavirus Disease(COVID-19) was discovered in Wuhan, Hubei Province, China.\n",
    " The most serious problem with the COVID-19 pandemic is its rapidly increasing global transmission rate.\n",
    " Various mathematical and statistical models have been presented to better understand the pandemic's spread trajectory.\n",
    " Using first order nonlinear ordinary differential equations,To develop an autonomous system based on the six state variables.'''\n"
   ]
  },
  {
   "cell_type": "code",
   "execution_count": 48,
   "metadata": {},
   "outputs": [
    {
     "data": {
      "text/plain": [
       "971"
      ]
     },
     "execution_count": 48,
     "metadata": {},
     "output_type": "execute_result"
    }
   ],
   "source": [
    "len(story)"
   ]
  },
  {
   "cell_type": "code",
   "execution_count": 49,
   "metadata": {},
   "outputs": [
    {
     "name": "stdout",
     "output_type": "stream",
     "text": [
      "['It', 'shows', 'how', 'testing', 'interruptions', 'can', 'change', 'epidemic', 'parameters', 'and', 'shift', 'disease', 'dynamics,', 'and', 'it', 'suggests', 'that', 'regular', 'testing', 'leads', 'to', 'more', 'de-synchronized', 'infected', 'cases.', 'A', 'data-based', 'study', 'on', 'the', 'impact', 'of', 'abrupt', 'changes', 'in', 'intervention', 'policies', '(testing)', 'and', 'corresponding', 'population', 'synchrony', 'with', 'Bovine-tuberculosis', 'transmission', 'dynamics', 'has', 'been', 'discussed.', 'Numerous', 'studies', 'on', 'the', 'subject', 'have', 'also', 'been', 'conducted', 'in', 'India.', 'Mathematical', 'models', 'can', 'track', 'and', 'predict', 'the', 'course', 'of', 'an', 'epidemic', 'under', 'a', 'variety', 'of', 'conditions.', 'the', 'Coronavirus', 'Disease(COVID-19)', 'was', 'discovered', 'in', 'Wuhan,', 'Hubei', 'Province,', 'China.', 'The', 'most', 'serious', 'problem', 'with', 'the', 'COVID-19', 'pandemic', 'is', 'its', 'rapidly', 'increasing', 'global', 'transmission', 'rate.', 'Various', 'mathematical', 'and', 'statistical', 'models', 'have', 'been', 'presented', 'to', 'better', 'understand', 'the', \"pandemic's\", 'spread', 'trajectory.', 'Using', 'first', 'order', 'nonlinear', 'ordinary', 'differential', 'equations,To', 'develop', 'an', 'autonomous', 'system', 'based', 'on', 'the', 'six', 'state', 'variables.']\n"
     ]
    }
   ],
   "source": [
    "print(story.split())"
   ]
  },
  {
   "cell_type": "code",
   "execution_count": 50,
   "metadata": {},
   "outputs": [
    {
     "name": "stdout",
     "output_type": "stream",
     "text": [
      "133\n"
     ]
    }
   ],
   "source": [
    "words = story.split()           # split the data according to spaces\n",
    "print(len(words))"
   ]
  },
  {
   "cell_type": "code",
   "execution_count": 51,
   "metadata": {},
   "outputs": [
    {
     "data": {
      "text/plain": [
       "['It shows how testing interruptions can change epidemic parameters and shift disease dynamics, and it suggests that regular testing leads to more de-synchronized infected cases',\n",
       " '\\nA data-based study on the impact of abrupt changes in intervention policies (testing) and corresponding population synchrony with Bovine-tuberculosis transmission dynamics has been discussed',\n",
       " '\\n Numerous studies on the subject have also been conducted in India',\n",
       " '\\n Mathematical models can track and predict the course of an epidemic under a variety of conditions',\n",
       " '\\n the Coronavirus Disease(COVID-19) was discovered in Wuhan, Hubei Province, China',\n",
       " '\\n The most serious problem with the COVID-19 pandemic is its rapidly increasing global transmission rate',\n",
       " \"\\n Various mathematical and statistical models have been presented to better understand the pandemic's spread trajectory\",\n",
       " '\\n Using first order nonlinear ordinary differential equations,To develop an autonomous system based on the six state variables',\n",
       " '']"
      ]
     },
     "execution_count": 51,
     "metadata": {},
     "output_type": "execute_result"
    }
   ],
   "source": [
    "story.split(\".\")"
   ]
  },
  {
   "cell_type": "code",
   "execution_count": 52,
   "metadata": {},
   "outputs": [
    {
     "data": {
      "text/plain": [
       "['It shows how testing interruptions can change epidemic parameters and shift disease dynamics, and it suggests that regular testing leads to more de-synchronized infected cases.\\nA data-based study on the impact of abrupt changes in intervention policies (testing) and corresponding population synchrony with Bovine-tuberculosis transmission dynamics has ',\n",
       " ' discussed.\\n Numerous studies on the subject have also ',\n",
       " ' conducted in India.\\n Mathematical models can track and predict the course of an epidemic under a variety of conditions.\\n the Coronavirus Disease(COVID-19) was discovered in Wuhan, Hubei Province, China.\\n The most serious problem with the COVID-19 pandemic is its rapidly increasing global transmission rate.\\n Various mathematical and statistical models have ',\n",
       " \" presented to better understand the pandemic's spread trajectory.\\n Using first order nonlinear ordinary differential equations,To develop an autonomous system based on the six state variables.\"]"
      ]
     },
     "execution_count": 52,
     "metadata": {},
     "output_type": "execute_result"
    }
   ],
   "source": [
    "story.split(\"been\")\n"
   ]
  },
  {
   "cell_type": "code",
   "execution_count": 53,
   "metadata": {},
   "outputs": [
    {
     "data": {
      "text/plain": [
       "['It shows how testing interruptions can change epidemic parameters and shift disease dynamics, and it suggests that regular testing leads to more de-synchronized infected cases',\n",
       " '\\nA data-based study on the impact of abrupt changes in intervention policies (testing) and corresponding population synchrony with Bovine-tuberculosis transmission dynamics has been discussed',\n",
       " '\\n Numerous studies on the subject have also been conducted in India',\n",
       " \"\\n Mathematical models can track and predict the course of an epidemic under a variety of conditions.\\n the Coronavirus Disease(COVID-19) was discovered in Wuhan, Hubei Province, China.\\n The most serious problem with the COVID-19 pandemic is its rapidly increasing global transmission rate.\\n Various mathematical and statistical models have been presented to better understand the pandemic's spread trajectory.\\n Using first order nonlinear ordinary differential equations,To develop an autonomous system based on the six state variables.\"]"
      ]
     },
     "execution_count": 53,
     "metadata": {},
     "output_type": "execute_result"
    }
   ],
   "source": [
    "story.split(\".\", 3)"
   ]
  },
  {
   "cell_type": "code",
   "execution_count": 54,
   "metadata": {},
   "outputs": [],
   "source": [
    "worldlist = ['Chocolate', 'is', 'good', 'for', 'health']"
   ]
  },
  {
   "cell_type": "code",
   "execution_count": 55,
   "metadata": {},
   "outputs": [
    {
     "data": {
      "text/plain": [
       "'Chocolate is good for health'"
      ]
     },
     "execution_count": 55,
     "metadata": {},
     "output_type": "execute_result"
    }
   ],
   "source": [
    "' '.join(worldlist)"
   ]
  },
  {
   "cell_type": "code",
   "execution_count": 56,
   "metadata": {},
   "outputs": [
    {
     "data": {
      "text/plain": [
       "'Chocolate-is-good-for-health'"
      ]
     },
     "execution_count": 56,
     "metadata": {},
     "output_type": "execute_result"
    }
   ],
   "source": [
    "'-'.join(worldlist)"
   ]
  },
  {
   "cell_type": "code",
   "execution_count": 57,
   "metadata": {},
   "outputs": [
    {
     "data": {
      "text/plain": [
       "\"It shows how testing interruptions can change epidemic parameters and shift disease dynamics, and it suggests that regular testing leads to more de-synchronized infected cases.\\nA data-based study on A impact of abrupt changes in intervention policies (testing) and corresponding population synchrony with Bovine-tuberculosis transmission dynamics has been discussed.\\n Numerous studies on A subject have also been conducted in India.\\n MaAmatical models can track and predict A course of an epidemic under a variety of conditions.\\n A Coronavirus Disease(COVID-19) was discovered in Wuhan, Hubei Province, China.\\n The most serious problem with A COVID-19 pandemic is its rapidly increasing global transmission rate.\\n Various maAmatical and statistical models have been presented to better understand A pandemic's spread trajectory.\\n Using first order nonlinear ordinary differential equations,To develop an autonomous system based on A six state variables.\""
      ]
     },
     "execution_count": 57,
     "metadata": {},
     "output_type": "execute_result"
    }
   ],
   "source": [
    "story.replace('the', 'A')"
   ]
  },
  {
   "cell_type": "code",
   "execution_count": 60,
   "metadata": {},
   "outputs": [
    {
     "data": {
      "text/plain": [
       "\"It shows how testing interruptions can change epidemic parameters and shift disease dynamics, and it suggests that regular testing leads to more de-synchronized infected cases ?? \\nA data-based study on the impact of abrupt changes in intervention policies (testing) and corresponding population synchrony with Bovine-tuberculosis transmission dynamics has been discussed ?? \\n Numerous studies on the subject have also been conducted in India ?? \\n Mathematical models can track and predict the course of an epidemic under a variety of conditions.\\n the Coronavirus Disease(COVID-19) was discovered in Wuhan, Hubei Province, China.\\n The most serious problem with the COVID-19 pandemic is its rapidly increasing global transmission rate.\\n Various mathematical and statistical models have been presented to better understand the pandemic's spread trajectory.\\n Using first order nonlinear ordinary differential equations,To develop an autonomous system based on the six state variables.\""
      ]
     },
     "execution_count": 60,
     "metadata": {},
     "output_type": "execute_result"
    }
   ],
   "source": [
    "story.replace('.', \" ?? \", 3)                # 3 last - means they replace only starting 3 full stop into question mark"
   ]
  },
  {
   "cell_type": "code",
   "execution_count": 5,
   "metadata": {},
   "outputs": [
    {
     "data": {
      "text/plain": [
       "\"IT SHOWS HOW TESTING INTERRUPTIONS CAN CHANGE EPIDEMIC PARAMETERS AND SHIFT DISEASE DYNAMICS, AND IT SUGGESTS THAT REGULAR TESTING LEADS TO MORE DE-SYNCHRONIZED INFECTED CASES.\\nA DATA-BASED STUDY ON THE IMPACT OF ABRUPT CHANGES IN INTERVENTION POLICIES (TESTING) AND CORRESPONDING POPULATION SYNCHRONY WITH BOVINE-TUBERCULOSIS TRANSMISSION DYNAMICS HAS BEEN DISCUSSED.\\n NUMEROUS STUDIES ON THE SUBJECT HAVE ALSO BEEN CONDUCTED IN INDIA.\\n MATHEMATICAL MODELS CAN TRACK AND PREDICT THE COURSE OF AN EPIDEMIC UNDER A VARIETY OF CONDITIONS.\\n THE CORONAVIRUS DISEASE(COVID-19) WAS DISCOVERED IN WUHAN, HUBEI PROVINCE, CHINA.\\n THE MOST SERIOUS PROBLEM WITH THE COVID-19 PANDEMIC IS ITS RAPIDLY INCREASING GLOBAL TRANSMISSION RATE.\\n VARIOUS MATHEMATICAL AND STATISTICAL MODELS HAVE BEEN PRESENTED TO BETTER UNDERSTAND THE PANDEMIC'S SPREAD TRAJECTORY.\\n USING FIRST ORDER NONLINEAR ORDINARY DIFFERENTIAL EQUATIONS,TO DEVELOP AN AUTONOMOUS SYSTEM BASED ON THE SIX STATE VARIABLES.\""
      ]
     },
     "execution_count": 5,
     "metadata": {},
     "output_type": "execute_result"
    }
   ],
   "source": [
    "story.upper()"
   ]
  },
  {
   "cell_type": "code",
   "execution_count": 6,
   "metadata": {},
   "outputs": [
    {
     "data": {
      "text/plain": [
       "\"it shows how testing interruptions can change epidemic parameters and shift disease dynamics, and it suggests that regular testing leads to more de-synchronized infected cases.\\na data-based study on the impact of abrupt changes in intervention policies (testing) and corresponding population synchrony with bovine-tuberculosis transmission dynamics has been discussed.\\n numerous studies on the subject have also been conducted in india.\\n mathematical models can track and predict the course of an epidemic under a variety of conditions.\\n the coronavirus disease(covid-19) was discovered in wuhan, hubei province, china.\\n the most serious problem with the covid-19 pandemic is its rapidly increasing global transmission rate.\\n various mathematical and statistical models have been presented to better understand the pandemic's spread trajectory.\\n using first order nonlinear ordinary differential equations,to develop an autonomous system based on the six state variables.\""
      ]
     },
     "execution_count": 6,
     "metadata": {},
     "output_type": "execute_result"
    }
   ],
   "source": [
    "story.lower()"
   ]
  },
  {
   "cell_type": "code",
   "execution_count": 4,
   "metadata": {},
   "outputs": [
    {
     "data": {
      "text/plain": [
       "\"It shows how testing interruptions can change epidemic parameters and shift disease dynamics, and it suggests that regular testing leads to more de-synchronized infected cases.\\na data-based study on the impact of abrupt changes in intervention policies (testing) and corresponding population synchrony with bovine-tuberculosis transmission dynamics has been discussed.\\n numerous studies on the subject have also been conducted in india.\\n mathematical models can track and predict the course of an epidemic under a variety of conditions.\\n the coronavirus disease(covid-19) was discovered in wuhan, hubei province, china.\\n the most serious problem with the covid-19 pandemic is its rapidly increasing global transmission rate.\\n various mathematical and statistical models have been presented to better understand the pandemic's spread trajectory.\\n using first order nonlinear ordinary differential equations,to develop an autonomous system based on the six state variables.\""
      ]
     },
     "execution_count": 4,
     "metadata": {},
     "output_type": "execute_result"
    }
   ],
   "source": [
    "story.capitalize()"
   ]
  },
  {
   "cell_type": "code",
   "execution_count": 3,
   "metadata": {},
   "outputs": [
    {
     "data": {
      "text/plain": [
       "\"It shows how testing interruptions can change epidemic parameters and shift disease dynamics, and it suggests that regular testing leads to more de-synchronized infected cases.\\na data-based study on the impact of abrupt changes in intervention policies (testing) and corresponding population synchrony with bovine-tuberculosis transmission dynamics has been discussed.\\n numerous studies on the subject have also been conducted in india.\\n mathematical models can track and predict the course of an epidemic under a variety of conditions.\\n the coronavirus disease(covid-19) was discovered in wuhan, hubei province, china.\\n the most serious problem with the covid-19 pandemic is its rapidly increasing global transmission rate.\\n various mathematical and statistical models have been presented to better understand the pandemic's spread trajectory.\\n using first order nonlinear ordinary differential equations,to develop an autonomous system based on the six state variables.\""
      ]
     },
     "execution_count": 3,
     "metadata": {},
     "output_type": "execute_result"
    }
   ],
   "source": [
    "story.strip().capitalize()"
   ]
  },
  {
   "cell_type": "code",
   "execution_count": 7,
   "metadata": {},
   "outputs": [
    {
     "data": {
      "text/plain": [
       "\"iT SHOWS HOW TESTING INTERRUPTIONS CAN CHANGE EPIDEMIC PARAMETERS AND SHIFT DISEASE DYNAMICS, AND IT SUGGESTS THAT REGULAR TESTING LEADS TO MORE DE-SYNCHRONIZED INFECTED CASES.\\na DATA-BASED STUDY ON THE IMPACT OF ABRUPT CHANGES IN INTERVENTION POLICIES (TESTING) AND CORRESPONDING POPULATION SYNCHRONY WITH bOVINE-TUBERCULOSIS TRANSMISSION DYNAMICS HAS BEEN DISCUSSED.\\n nUMEROUS STUDIES ON THE SUBJECT HAVE ALSO BEEN CONDUCTED IN iNDIA.\\n mATHEMATICAL MODELS CAN TRACK AND PREDICT THE COURSE OF AN EPIDEMIC UNDER A VARIETY OF CONDITIONS.\\n THE cORONAVIRUS dISEASE(covid-19) WAS DISCOVERED IN wUHAN, hUBEI pROVINCE, cHINA.\\n tHE MOST SERIOUS PROBLEM WITH THE covid-19 PANDEMIC IS ITS RAPIDLY INCREASING GLOBAL TRANSMISSION RATE.\\n vARIOUS MATHEMATICAL AND STATISTICAL MODELS HAVE BEEN PRESENTED TO BETTER UNDERSTAND THE PANDEMIC'S SPREAD TRAJECTORY.\\n uSING FIRST ORDER NONLINEAR ORDINARY DIFFERENTIAL EQUATIONS,tO DEVELOP AN AUTONOMOUS SYSTEM BASED ON THE SIX STATE VARIABLES.\""
      ]
     },
     "execution_count": 7,
     "metadata": {},
     "output_type": "execute_result"
    }
   ],
   "source": [
    "story.swapcase()"
   ]
  },
  {
   "cell_type": "code",
   "execution_count": 8,
   "metadata": {},
   "outputs": [
    {
     "data": {
      "text/plain": [
       "\"it shows how testing interruptions can change epidemic parameters and shift disease dynamics, and it suggests that regular testing leads to more de-synchronized infected cases.\\na data-based study on the impact of abrupt changes in intervention policies (testing) and corresponding population synchrony with bovine-tuberculosis transmission dynamics has been discussed.\\n numerous studies on the subject have also been conducted in india.\\n mathematical models can track and predict the course of an epidemic under a variety of conditions.\\n the coronavirus disease(covid-19) was discovered in wuhan, hubei province, china.\\n the most serious problem with the covid-19 pandemic is its rapidly increasing global transmission rate.\\n various mathematical and statistical models have been presented to better understand the pandemic's spread trajectory.\\n using first order nonlinear ordinary differential equations,to develop an autonomous system based on the six state variables.\""
      ]
     },
     "execution_count": 8,
     "metadata": {},
     "output_type": "execute_result"
    }
   ],
   "source": [
    "story.casefold()"
   ]
  },
  {
   "cell_type": "code",
   "execution_count": 9,
   "metadata": {},
   "outputs": [
    {
     "data": {
      "text/plain": [
       "False"
      ]
     },
     "execution_count": 9,
     "metadata": {},
     "output_type": "execute_result"
    }
   ],
   "source": [
    "msg = input('enter a message: ')\n",
    "msg.isalpha()                              # isalpha means only alphabets A to Z"
   ]
  },
  {
   "cell_type": "code",
   "execution_count": 12,
   "metadata": {},
   "outputs": [
    {
     "name": "stdout",
     "output_type": "stream",
     "text": [
      "Valid\n"
     ]
    }
   ],
   "source": [
    "msg = input('enter a message: ')\n",
    "if msg.isnumeric():\n",
    "    print('Valid number')\n",
    "else:\n",
    "    print(\"Ivalid number\")    "
   ]
  },
  {
   "cell_type": "code",
   "execution_count": 11,
   "metadata": {},
   "outputs": [
    {
     "data": {
      "text/plain": [
       "True"
      ]
     },
     "execution_count": 11,
     "metadata": {},
     "output_type": "execute_result"
    }
   ],
   "source": [
    "msg = input('enter a message: ')\n",
    "msg.isalnum()   "
   ]
  },
  {
   "cell_type": "code",
   "execution_count": 13,
   "metadata": {},
   "outputs": [
    {
     "data": {
      "text/plain": [
       "68"
      ]
     },
     "execution_count": 13,
     "metadata": {},
     "output_type": "execute_result"
    }
   ],
   "source": [
    "story.count('a')"
   ]
  },
  {
   "cell_type": "code",
   "execution_count": 15,
   "metadata": {},
   "outputs": [
    {
     "name": "stdout",
     "output_type": "stream",
     "text": [
      "3\n"
     ]
    }
   ],
   "source": [
    "occurance = story.count('of')\n",
    "print(occurance)"
   ]
  },
  {
   "cell_type": "code",
   "execution_count": 16,
   "metadata": {},
   "outputs": [
    {
     "name": "stdout",
     "output_type": "stream",
     "text": [
      "a 68\n",
      "b 13\n",
      "c 33\n",
      "d 43\n",
      "e 90\n",
      "f 8\n",
      "g 12\n",
      "h 25\n",
      "i 69\n",
      "j 2\n",
      "k 1\n",
      "l 19\n",
      "m 21\n",
      "n 67\n",
      "o 51\n",
      "p 18\n",
      "q 1\n",
      "r 46\n",
      "s 74\n",
      "t 67\n",
      "u 25\n",
      "v 10\n",
      "w 5\n",
      "x 1\n"
     ]
    }
   ],
   "source": [
    "for char in 'abcdefghijklmnopqrstuvwx':\n",
    "    print(char, story.count(char))"
   ]
  },
  {
   "cell_type": "code",
   "execution_count": 18,
   "metadata": {},
   "outputs": [
    {
     "name": "stdout",
     "output_type": "stream",
     "text": [
      "a 69\n",
      "b 14\n",
      "c 37\n",
      "d 46\n",
      "e 90\n",
      "f 8\n",
      "g 12\n",
      "h 26\n",
      "i 73\n",
      "j 2\n",
      "k 1\n",
      "l 19\n",
      "m 22\n",
      "n 68\n",
      "o 53\n",
      "p 19\n",
      "q 1\n",
      "r 46\n",
      "s 74\n",
      "t 69\n",
      "u 26\n",
      "v 13\n",
      "w 6\n",
      "x 1\n"
     ]
    }
   ],
   "source": [
    "for char in 'abcdefghijklmnopqrstuvwx':\n",
    "    print(char, story.lower().count(char))"
   ]
  },
  {
   "cell_type": "code",
   "execution_count": 19,
   "metadata": {},
   "outputs": [
    {
     "name": "stdout",
     "output_type": "stream",
     "text": [
      " qwe  5\n",
      "qwe 3\n"
     ]
    }
   ],
   "source": [
    "name = input('Enter your name: ')\n",
    "print(name, len(name))\n",
    "#cleaning name\n",
    "name = name.strip()\n",
    "print(name, len(name))"
   ]
  },
  {
   "cell_type": "code",
   "execution_count": 21,
   "metadata": {},
   "outputs": [
    {
     "name": "stdout",
     "output_type": "stream",
     "text": [
      "Mr. Happy\n",
      "Mrs. Lisa\n",
      "Mr. kimtae\n",
      "Mr. jungkook\n",
      "Mrs. Rose\n"
     ]
    }
   ],
   "source": [
    "guestlist = [\"Mr. Happy\", \"Mrs. Lisa\", \"Mr. kimtae\", \"Mr. jungkook\", \"Mrs. Rose\"]\n",
    "for name in guestlist:\n",
    "    print(name)"
   ]
  },
  {
   "cell_type": "code",
   "execution_count": 22,
   "metadata": {},
   "outputs": [
    {
     "name": "stdout",
     "output_type": "stream",
     "text": [
      "Wellcome Gentleman Mr. Happy\n",
      "Welcome Mylady,Mrs. Lisa\n",
      "Wellcome Gentleman Mr. kimtae\n",
      "Wellcome Gentleman Mr. jungkook\n",
      "Welcome Mylady,Mrs. Rose\n"
     ]
    }
   ],
   "source": [
    "guestlist = [\"Mr. Happy\", \"Mrs. Lisa\", \"Mr. kimtae\", \"Mr. jungkook\", \"Mrs. Rose\"]\n",
    "for name in guestlist:\n",
    "    if name.startswith(\"Mr.\"):\n",
    "        print(f'Wellcome Gentleman {name}')\n",
    "    if name.startswith(\"Mrs.\"):\n",
    "        print(f'Welcome Mylady,{name}')    \n",
    "    "
   ]
  },
  {
   "cell_type": "code",
   "execution_count": 20,
   "metadata": {},
   "outputs": [
    {
     "name": "stdout",
     "output_type": "stream",
     "text": [
      "song.mp3 is audio file\n",
      "song.mp4 is Video file\n",
      "doc.txt is text file\n",
      "doc1.txt is text file\n",
      "doc2.txt is text file\n",
      "video.mp4 is Video file\n"
     ]
    }
   ],
   "source": [
    "files = ['song.mp3', 'song.mp4', 'doc.txt', 'doc1.txt', 'doc2.txt', 'video.mp4']\n",
    "for file in files:\n",
    "    if file.endswith('mp3'):\n",
    "        print (f'{file} is audio file')\n",
    "    if file.endswith('mp4'):\n",
    "        print (f'{file} is Video file')\n",
    "    if file.endswith('txt'):\n",
    "        print (f'{file} is text file')        "
   ]
  },
  {
   "cell_type": "markdown",
   "metadata": {},
   "source": [
    "### Remove all worth from a string enetered by user "
   ]
  },
  {
   "cell_type": "code",
   "execution_count": 25,
   "metadata": {},
   "outputs": [
    {
     "name": "stdout",
     "output_type": "stream",
     "text": [
      "t d y    m  n   b d M d l \n"
     ]
    }
   ],
   "source": [
    "vowels = 'aeiou'\n",
    "message = 'today i am in a bad Module'\n",
    "for vowel in vowels:\n",
    "    message = message.replace(vowel, ' ')\n",
    "print(message)"
   ]
  },
  {
   "cell_type": "markdown",
   "metadata": {},
   "source": [
    "### Remove all vowels from a string enetered by user"
   ]
  },
  {
   "cell_type": "code",
   "execution_count": 27,
   "metadata": {},
   "outputs": [
    {
     "name": "stdout",
     "output_type": "stream",
     "text": [
      "wht re you doing\n",
      "wht r you doing\n",
      "wht r you dong\n",
      "wht r yu dng\n",
      "wht r y dng\n"
     ]
    }
   ],
   "source": [
    "vowels = 'aeiou'\n",
    "message = input()\n",
    "for vowel in vowels:\n",
    "    message = message.replace(vowel, '')\n",
    "    print(message)"
   ]
  },
  {
   "cell_type": "code",
   "execution_count": null,
   "metadata": {},
   "outputs": [],
   "source": []
  }
 ],
 "metadata": {
  "interpreter": {
   "hash": "5ae58900cfbb8c43ab3495913814b7cf26024f51651a94ce8bf64d6111688e8d"
  },
  "kernelspec": {
   "display_name": "Python 3.9.7 ('base')",
   "language": "python",
   "name": "python3"
  },
  "language_info": {
   "codemirror_mode": {
    "name": "ipython",
    "version": 3
   },
   "file_extension": ".py",
   "mimetype": "text/x-python",
   "name": "python",
   "nbconvert_exporter": "python",
   "pygments_lexer": "ipython3",
   "version": "3.9.7"
  },
  "orig_nbformat": 4
 },
 "nbformat": 4,
 "nbformat_minor": 2
}
